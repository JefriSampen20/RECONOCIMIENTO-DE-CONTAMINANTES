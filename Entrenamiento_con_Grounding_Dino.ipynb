{
  "nbformat": 4,
  "nbformat_minor": 0,
  "metadata": {
    "colab": {
      "provenance": [],
      "gpuType": "T4"
    },
    "kernelspec": {
      "name": "python3",
      "display_name": "Python 3"
    },
    "language_info": {
      "name": "python"
    },
    "accelerator": "GPU"
  },
  "cells": [
    {
      "cell_type": "markdown",
      "source": [
        "# ***Etiquetado de Imágenes con Grounding DINO***\n",
        "\n"
      ],
      "metadata": {
        "id": "THqKWlPmGprc"
      }
    },
    {
      "cell_type": "markdown",
      "source": [
        "1. Verificación de GPU Disponible"
      ],
      "metadata": {
        "id": "K7knzRDFG2uP"
      }
    },
    {
      "cell_type": "code",
      "source": [
        "!nvidia-smi"
      ],
      "metadata": {
        "id": "X7eU3NZFGior"
      },
      "execution_count": null,
      "outputs": []
    },
    {
      "cell_type": "markdown",
      "source": [
        "2. Definición de la ruta principal del proyecto"
      ],
      "metadata": {
        "id": "103DuEhLHrMc"
      }
    },
    {
      "cell_type": "code",
      "source": [
        "cd/content"
      ],
      "metadata": {
        "id": "qC21ZS-MHRV6"
      },
      "execution_count": null,
      "outputs": []
    },
    {
      "cell_type": "code",
      "source": [
        "import os\n",
        "HOME = os.getcwd()"
      ],
      "metadata": {
        "id": "BjBRowrhHA73"
      },
      "execution_count": null,
      "outputs": []
    },
    {
      "cell_type": "markdown",
      "source": [
        "3. Clonado del repositorio GroundingDINO"
      ],
      "metadata": {
        "id": "dxJa2ocVHuSC"
      }
    },
    {
      "cell_type": "code",
      "source": [
        "%cd {HOME}\n",
        "!git clone https://github.com/IDEA-Research/GroundingDINO.git"
      ],
      "metadata": {
        "id": "BAQqoVXnH1jx"
      },
      "execution_count": null,
      "outputs": []
    },
    {
      "cell_type": "markdown",
      "source": [
        "4. Instalación del modelo como paquete editable"
      ],
      "metadata": {
        "id": "pRKHXqasJWlG"
      }
    },
    {
      "cell_type": "code",
      "source": [
        "%cd {HOME}/GroundingDINO\n",
        "!pip install -q -e .\n",
        "!pip install supervision"
      ],
      "metadata": {
        "id": "ZexCCmnvH4Ym"
      },
      "execution_count": null,
      "outputs": []
    },
    {
      "cell_type": "markdown",
      "source": [
        "5. Descarga de pesos preentrenados"
      ],
      "metadata": {
        "id": "jDOB-KSSJa51"
      }
    },
    {
      "cell_type": "code",
      "source": [
        "!mkdir {HOME}/weights\n",
        "%cd {HOME}/weights\n",
        "!wget -q https://github.com/IDEA-Research/GroundingDINO/releases/download/v0.1.0-alpha/groundingdino_swint_ogc.pth"
      ],
      "metadata": {
        "id": "T0ddmuA4JaVv"
      },
      "execution_count": null,
      "outputs": []
    },
    {
      "cell_type": "markdown",
      "source": [
        "6. Carga del modelo"
      ],
      "metadata": {
        "id": "5j1uh7VNJjP9"
      }
    },
    {
      "cell_type": "code",
      "source": [
        "cd /content/GroundingDINO\n",
        "\n",
        "%cd {HOME}/GroundingDINO\n",
        "from groundingdino.util.inference import load_model, load_image, predict, annotate\n",
        "\n",
        "model = load_model(f\"{HOME}/GroundingDINO/groundingdino/config/GroundingDINO_SwinT_OGC.py\",\n",
        "                   f\"{HOME}/weights/groundingdino_swint_ogc.pth\")"
      ],
      "metadata": {
        "id": "NbRL-poOJiPw"
      },
      "execution_count": null,
      "outputs": []
    },
    {
      "cell_type": "markdown",
      "source": [
        "7. Predicción y visualización del objeto en la imagen\n"
      ],
      "metadata": {
        "id": "5eD5rZFYJ1oh"
      }
    },
    {
      "cell_type": "code",
      "source": [
        "import os\n",
        "import supervision as sv\n",
        "\n",
        "IMAGE_NAME = \"/content/data/images/moneda_7.jpg\"\n",
        "IMAGE_PATH = os.path.join(HOME, 'data', IMAGE_NAME)\n",
        "\n",
        "TEXT_PROMPT = \"coin\"\n",
        "BOX_THRESHOLD = 0.35\n",
        "TEXT_THRESHOLD = 0.35\n",
        "\n",
        "image_source, image = load_image(IMAGE_NAME)\n",
        "\n",
        "boxes, logits, phrases = predict(\n",
        "    model = model,\n",
        "    image = image,\n",
        "    caption = TEXT_PROMPT,\n",
        "    box_threshold = BOX_THRESHOLD,\n",
        "    text_threshold = TEXT_THRESHOLD,\n",
        "    device = 'cuda'\n",
        ")\n",
        "\n",
        "annotated_frame = annotate(image_source=image_source, boxes=boxes, logits=logits, phrases=phrases)\n",
        "\n",
        "%matplotlib inline\n",
        "sv.plot_image(annotated_frame, (16,16))"
      ],
      "metadata": {
        "id": "ByWjr_cMJ32t"
      },
      "execution_count": null,
      "outputs": []
    },
    {
      "cell_type": "markdown",
      "source": [
        "8. Ajustes de entorno y limpieza de directorios temporales"
      ],
      "metadata": {
        "id": "DB7PxUWqKFW8"
      }
    },
    {
      "cell_type": "code",
      "source": [
        "import locale\n",
        "locale.getpreferredencoding = lambda: \"UTF-8\"\n",
        "\n",
        "!find /content/data/images -type d -name \".ipynb_checkpoints\" -exec rm -r {} +"
      ],
      "metadata": {
        "id": "Ia1JZV7vJ6Gc"
      },
      "execution_count": null,
      "outputs": []
    },
    {
      "cell_type": "markdown",
      "source": [
        "9. Importación de librerías para el procesamiento y visualización"
      ],
      "metadata": {
        "id": "Ja0zJ2UuKaTz"
      }
    },
    {
      "cell_type": "code",
      "source": [
        "import os\n",
        "from time import time\n",
        "import cv2\n",
        "import torch\n",
        "from PIL import Image\n",
        "from GroundingDINO.groundingdino.util.inference import load_model, predict, annotate\n",
        "import GroundingDINO.groundingdino.datasets.transforms as T"
      ],
      "metadata": {
        "id": "1LBRcE4pKcV_"
      },
      "execution_count": null,
      "outputs": []
    },
    {
      "cell_type": "markdown",
      "source": [
        "10. Sistema de detección por lotes y generación automática de anotaciones"
      ],
      "metadata": {
        "id": "QT0SAIRxLPsh"
      }
    },
    {
      "cell_type": "code",
      "source": [
        "# Device\n",
        "DEVICE = torch.device('cuda:0' if torch.cuda.is_available() else 'cpu')\n",
        "\n",
        "def read_images_from_folder(folder_path):\n",
        "    images = []\n",
        "    clases = []\n",
        "    lista = os.listdir(folder_path)\n",
        "\n",
        "    for lis in lista:\n",
        "        img_path = os.path.join(folder_path, lis)\n",
        "        img = cv2.imread(img_path)\n",
        "        images.append(img)\n",
        "        clases.append(os.path.splitext(lis)[0])\n",
        "\n",
        "    return images, clases\n",
        "\n",
        "def save_results(image, boxes, class_id, out_folder):\n",
        "    # Norm\n",
        "    xc, yc, an, al = boxes[0][0], boxes[0][1], boxes[0][2], boxes[0][3]\n",
        "    xc, yc, an, al = max(0, min(1, xc)), max(0, min(1, yc)), max(0, min(1, an)), max(0, min(1, al))\n",
        "    list_info = [f\"{class_id} {xc} {yc} {an} {al}\"]\n",
        "    time_now = str(time()).replace('.', '')\n",
        "    cv2.imwrite(f\"{out_folder}/{time_now}.jpg\", image)\n",
        "\n",
        "    for info in list_info:\n",
        "        with open(f\"{out_folder}/{time_now}.txt\", 'a') as f:\n",
        "            f.write(info)\n",
        "\n",
        "def main():\n",
        "    img_folder_path = '/content/data/images'\n",
        "    out_folder_path = '/content/data/annotations'\n",
        "    class_id = 2\n",
        "    save_results_flag = True\n",
        "\n",
        "    images, classes = read_images_from_folder(img_folder_path)\n",
        "    num_images = len(images)\n",
        "\n",
        "    print(f\"Imagenes: {num_images}\")\n",
        "    print(f'Nombres: {classes}')\n",
        "\n",
        "    home = os.getcwd()\n",
        "\n",
        "    # Config Path\n",
        "    config_path = os.path.join(home, \"/content/GroundingDINO/groundingdino/config/GroundingDINO_SwinT_OGC.py\")\n",
        "\n",
        "    # CheckPoint Weights\n",
        "    check_point_path = '/content/weights/groundingdino_swint_ogc.pth'\n",
        "\n",
        "    # Model\n",
        "    model = load_model(config_path, check_point_path)\n",
        "\n",
        "    # Prompt\n",
        "    text_prompt = 'coin'\n",
        "    box_threshold = 0.35\n",
        "    text_threshold = 0.35\n",
        "\n",
        "    for con in range(num_images):\n",
        "        img = images[con]\n",
        "        print(\"------------------//--------------------\")\n",
        "        print(f\"Image: {classes[con]}\")\n",
        "\n",
        "        img_copy = img.copy()\n",
        "\n",
        "        transform = T.Compose([\n",
        "            T.RandomResize([800], max_size=1333),\n",
        "            T.ToTensor(),\n",
        "            T.Normalize([0.485, 0.456, 0.406], [0.229, 0.224, 0.225])\n",
        "        ])\n",
        "\n",
        "        img_source = Image.fromarray(img).convert(\"RGB\")\n",
        "        img_transform, _ = transform(img_source, None)\n",
        "\n",
        "        boxes, logits, phrases = predict(\n",
        "            model=model,\n",
        "            image=img_transform,\n",
        "            caption=text_prompt,\n",
        "            box_threshold=box_threshold,\n",
        "            text_threshold=text_threshold,\n",
        "            device=DEVICE)\n",
        "\n",
        "        if len(boxes) != 0:\n",
        "            if save_results_flag:\n",
        "                save_results(img_copy, boxes, class_id, out_folder_path)\n",
        "\n",
        "        annotated_img = annotate(image_source=img, boxes=boxes, logits=logits, phrases=phrases)\n",
        "        out_frame = cv2.cvtColor(annotated_img, cv2.COLOR_BGR2RGB)\n",
        "\n",
        "if __name__ == \"__main__\":\n",
        "    main()"
      ],
      "metadata": {
        "id": "FEet-qXzLRIZ"
      },
      "execution_count": null,
      "outputs": []
    },
    {
      "cell_type": "markdown",
      "source": [
        "11. Compresión de resultados para exportación"
      ],
      "metadata": {
        "id": "qTAA2M_OLZkN"
      }
    },
    {
      "cell_type": "code",
      "source": [
        "!zip -r \"/content/data/annotations.zip\" \"/content/data/annotations\""
      ],
      "metadata": {
        "id": "M0TsBAOYLX7Z"
      },
      "execution_count": null,
      "outputs": []
    },
    {
      "cell_type": "markdown",
      "source": [
        "12. Eliminación de directorios temporales o de entrenamiento previo"
      ],
      "metadata": {
        "id": "Q5wsRtx-LdJs"
      }
    },
    {
      "cell_type": "code",
      "source": [
        "from shutil import rmtree\n",
        "rmtree(\"/content/dataTrain/train/images\")"
      ],
      "metadata": {
        "id": "LHVuKBJKMOY4"
      },
      "execution_count": null,
      "outputs": []
    },
    {
      "cell_type": "markdown",
      "source": [
        "13. Instalación de Ultralytics y descarga del modelo YOLOv8"
      ],
      "metadata": {
        "id": "SXUDpWxpMPyy"
      }
    },
    {
      "cell_type": "code",
      "source": [
        "!pip install ultralytics"
      ],
      "metadata": {
        "id": "1V8f9djvMboH"
      },
      "execution_count": null,
      "outputs": []
    },
    {
      "cell_type": "code",
      "source": [
        "cd /content/models"
      ],
      "metadata": {
        "id": "MWXdnVYzMfSe"
      },
      "execution_count": null,
      "outputs": []
    },
    {
      "cell_type": "code",
      "source": [
        "!wget https://github.com/ultralytics/assets/releases/download/v8.1.0/yolov8n.pt"
      ],
      "metadata": {
        "id": "Zwy0yEsWMhUc"
      },
      "execution_count": null,
      "outputs": []
    },
    {
      "cell_type": "markdown",
      "source": [
        "14. Entrenamiento del modelo YOLOv8 con datos personalizados\n"
      ],
      "metadata": {
        "id": "BZCRbnkxNFiX"
      }
    },
    {
      "cell_type": "code",
      "source": [
        "cd /content"
      ],
      "metadata": {
        "id": "wPLVLScWNJVF"
      },
      "execution_count": null,
      "outputs": []
    },
    {
      "cell_type": "code",
      "source": [
        "from ultralytics import YOLO"
      ],
      "metadata": {
        "id": "sFaY8mvjNKKi"
      },
      "execution_count": null,
      "outputs": []
    },
    {
      "cell_type": "code",
      "source": [
        "model = YOLO('/content/models/yolov8n.pt')"
      ],
      "metadata": {
        "id": "J1SDVDnnNMWh"
      },
      "execution_count": null,
      "outputs": []
    },
    {
      "cell_type": "code",
      "source": [
        "model.train(data='/content/dataTrain/data.yaml', epochs = 40, batch = 64, imgsz = 640, device = 'cuda')"
      ],
      "metadata": {
        "id": "noAyg4GdNNxF"
      },
      "execution_count": null,
      "outputs": []
    }
  ]
}